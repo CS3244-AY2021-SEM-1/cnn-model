{
 "cells": [
  {
   "cell_type": "markdown",
   "metadata": {},
   "source": [
    "# Analysing the JHU++ Crowd-Counting Dataset"
   ]
  },
  {
   "cell_type": "code",
   "execution_count": null,
   "metadata": {},
   "outputs": [],
   "source": [
    "import h5py\n",
    "import scipy.io as io\n",
    "import PIL.Image as Image\n",
    "import numpy as np\n",
    "import os\n",
    "import glob\n",
    "from matplotlib import pyplot as plt\n",
    "from scipy.ndimage.filters import gaussian_filter \n",
    "from scipy.ndimage import gaussian_filter\n",
    "import scipy\n",
    "from scipy.io import loadmat\n",
    "import json\n",
    "from matplotlib import cm as CM\n",
    "import cv2\n",
    "%matplotlib inline"
   ]
  },
  {
   "cell_type": "markdown",
   "metadata": {},
   "source": [
    "## Image-Level Analysis\n",
    "\n",
    "Found within the image_label.txt file.\n",
    "\n",
    "Each row is comma separated denoting the following items (in this order):\n",
    "1. filename\n",
    "2. total count\n",
    "3. scene type\n",
    "    - description of the scene\n",
    "4. weather condition\n",
    "    - 0: no weather degradation\n",
    "    - 1: fog/haze\n",
    "    - 2: rain\n",
    "    - 3: snow\n",
    "5. distractor\n",
    "    - 0: not a distractor\n",
    "    - 1: distractor"
   ]
  },
  {
   "cell_type": "markdown",
   "metadata": {},
   "source": [
    "#### Analysing the train images"
   ]
  },
  {
   "cell_type": "code",
   "execution_count": null,
   "metadata": {},
   "outputs": [],
   "source": [
    "#set the root to the JHU dataset you download\n",
    "root = '../data/JHU/'\n",
    "\n",
    "JHU_train_path = os.path.join(root, 'val', 'images')\n",
    "image_label_path = os.path.join(root, 'val', 'image_labels.txt')\n",
    "\n",
    "with open(image_label_path,'r') as image_labels:\n",
    "     all_lines = image_labels.readlines()\n",
    "        \n",
    "all_lines\n",
    "\n",
    "descriptions = {}\n",
    "weathers = {}\n",
    "distractors = {0: 0, 1: 0}\n",
    "\n",
    "for i in range(len(all_lines)):\n",
    "    line = all_lines[i].split(',')\n",
    "    image_path = os.path.join(JHU_train_path, line[0]) + '.jpg'\n",
    "    \n",
    "    # counting the number of each scene-type\n",
    "    desc = line[2]\n",
    "    if desc not in descriptions: descriptions[desc] = 1\n",
    "    else: descriptions[desc] += 1\n",
    "        \n",
    "    # counting the number of each weather \n",
    "    w = line[3]\n",
    "    if w not in weathers: weathers[w] = 1\n",
    "    else: weathers[w] += 1\n",
    "        \n",
    "    # counting the number of distractors and non-distractors\n",
    "    if line[4][0] == '1': distractors[1] += 1\n",
    "    else: distractors[0] += 1\n",
    "\n",
    "print('Number of items: {}'.format(len(all_lines)))        \n",
    "        \n",
    "weathers"
   ]
  },
  {
   "cell_type": "code",
   "execution_count": null,
   "metadata": {},
   "outputs": [],
   "source": []
  },
  {
   "cell_type": "code",
   "execution_count": null,
   "metadata": {},
   "outputs": [],
   "source": []
  },
  {
   "cell_type": "code",
   "execution_count": null,
   "metadata": {},
   "outputs": [],
   "source": []
  },
  {
   "cell_type": "code",
   "execution_count": null,
   "metadata": {},
   "outputs": [],
   "source": []
  },
  {
   "cell_type": "markdown",
   "metadata": {},
   "source": [
    "## Head-Level Analysis"
   ]
  },
  {
   "cell_type": "markdown",
   "metadata": {},
   "source": [
    "Format:\n",
    "1. x: head location \n",
    "2. y: head location\n",
    "3. w: width of head\n",
    "4. h: height of head\n",
    "5. o: occlusion level\n",
    "    - 1: visible\n",
    "    - 2: partial occlusion\n",
    "    - 3: full-occlusion\n",
    "6. b: blur-level:\n",
    "    - 0: no blur\n",
    "    - 1: blur"
   ]
  },
  {
   "cell_type": "code",
   "execution_count": null,
   "metadata": {},
   "outputs": [],
   "source": []
  },
  {
   "cell_type": "code",
   "execution_count": null,
   "metadata": {},
   "outputs": [],
   "source": []
  },
  {
   "cell_type": "code",
   "execution_count": null,
   "metadata": {},
   "outputs": [],
   "source": []
  },
  {
   "cell_type": "code",
   "execution_count": null,
   "metadata": {},
   "outputs": [],
   "source": []
  }
 ],
 "metadata": {
  "kernelspec": {
   "display_name": "Python 3",
   "language": "python",
   "name": "python3"
  },
  "language_info": {
   "codemirror_mode": {
    "name": "ipython",
    "version": 3
   },
   "file_extension": ".py",
   "mimetype": "text/x-python",
   "name": "python",
   "nbconvert_exporter": "python",
   "pygments_lexer": "ipython3",
   "version": "3.6.9"
  }
 },
 "nbformat": 4,
 "nbformat_minor": 4
}

{
 "cells": [
  {
   "cell_type": "code",
   "execution_count": 1,
   "metadata": {},
   "outputs": [],
   "source": [
    "import os\n",
    "import torch\n",
    "import numpy as np\n",
    "import pandas as pd\n",
    "import sys\n",
    "import random\n",
    "import h5py\n",
    "import torch\n",
    "import torchvision\n",
    "from torch.utils.tensorboard import SummaryWriter\n",
    "import matplotlib.pyplot as plt\n",
    "import matplotlib.patches as mpatches\n",
    "\n",
    "sys.path.append('../')\n",
    "\n",
    "from models.csrnet_pytorch.src import *\n",
    "from models.csrnet_pytorch.src.crowd_count import *\n",
    "from models.csrnet_pytorch.src.network import *\n",
    "from models.csrnet_pytorch.src.data_loader import ImageDataLoader\n",
    "from models.csrnet_pytorch.src.timer import *\n",
    "from models.csrnet_pytorch.src.evaluate_model import *\n",
    "from models.csrnet_pytorch.src import utils\n",
    "\n",
    "torch.manual_seed(0)\n",
    "np.random.seed(0)\n",
    "torch.backends.cudnn.deterministic = True\n",
    "torch.backends.cudnn.benchmark = False"
   ]
  },
  {
   "cell_type": "code",
   "execution_count": 2,
   "metadata": {},
   "outputs": [
    {
     "name": "stdout",
     "output_type": "stream",
     "text": [
      "cuda\n"
     ]
    }
   ],
   "source": [
    "# Check to see if device can be trained on GPU\n",
    "device = torch.device('cuda') if torch.cuda.is_available() else torch.device('cpu')\n",
    "\n",
    "print(device)\n"
   ]
  },
  {
   "cell_type": "code",
   "execution_count": 3,
   "metadata": {},
   "outputs": [
    {
     "name": "stdout",
     "output_type": "stream",
     "text": [
      "|===========================================================================|\n",
      "|                  PyTorch CUDA memory summary, device ID 0                 |\n",
      "|---------------------------------------------------------------------------|\n",
      "|            CUDA OOMs: 0            |        cudaMalloc retries: 0         |\n",
      "|===========================================================================|\n",
      "|        Metric         | Cur Usage  | Peak Usage | Tot Alloc  | Tot Freed  |\n",
      "|---------------------------------------------------------------------------|\n",
      "| Allocated memory      |       0 B  |       0 B  |       0 B  |       0 B  |\n",
      "|       from large pool |       0 B  |       0 B  |       0 B  |       0 B  |\n",
      "|       from small pool |       0 B  |       0 B  |       0 B  |       0 B  |\n",
      "|---------------------------------------------------------------------------|\n",
      "| Active memory         |       0 B  |       0 B  |       0 B  |       0 B  |\n",
      "|       from large pool |       0 B  |       0 B  |       0 B  |       0 B  |\n",
      "|       from small pool |       0 B  |       0 B  |       0 B  |       0 B  |\n",
      "|---------------------------------------------------------------------------|\n",
      "| GPU reserved memory   |       0 B  |       0 B  |       0 B  |       0 B  |\n",
      "|       from large pool |       0 B  |       0 B  |       0 B  |       0 B  |\n",
      "|       from small pool |       0 B  |       0 B  |       0 B  |       0 B  |\n",
      "|---------------------------------------------------------------------------|\n",
      "| Non-releasable memory |       0 B  |       0 B  |       0 B  |       0 B  |\n",
      "|       from large pool |       0 B  |       0 B  |       0 B  |       0 B  |\n",
      "|       from small pool |       0 B  |       0 B  |       0 B  |       0 B  |\n",
      "|---------------------------------------------------------------------------|\n",
      "| Allocations           |       0    |       0    |       0    |       0    |\n",
      "|       from large pool |       0    |       0    |       0    |       0    |\n",
      "|       from small pool |       0    |       0    |       0    |       0    |\n",
      "|---------------------------------------------------------------------------|\n",
      "| Active allocs         |       0    |       0    |       0    |       0    |\n",
      "|       from large pool |       0    |       0    |       0    |       0    |\n",
      "|       from small pool |       0    |       0    |       0    |       0    |\n",
      "|---------------------------------------------------------------------------|\n",
      "| GPU reserved segments |       0    |       0    |       0    |       0    |\n",
      "|       from large pool |       0    |       0    |       0    |       0    |\n",
      "|       from small pool |       0    |       0    |       0    |       0    |\n",
      "|---------------------------------------------------------------------------|\n",
      "| Non-releasable allocs |       0    |       0    |       0    |       0    |\n",
      "|       from large pool |       0    |       0    |       0    |       0    |\n",
      "|       from small pool |       0    |       0    |       0    |       0    |\n",
      "|===========================================================================|\n",
      "\n",
      "Using gpu Tesla K80 with device number 0.\n",
      "Memory allocated = 0\n",
      "Memory cached = 0\n"
     ]
    }
   ],
   "source": [
    "# Cuda configurations\n",
    "\n",
    "torch.cuda.empty_cache()\n",
    "print(torch.cuda.memory_summary(device=None, abbreviated=False))\n",
    "\n",
    "current_device = torch.cuda.current_device()\n",
    "current_device_name = torch.cuda.get_device_name(current_device)\n",
    "memory_allocated = torch.cuda.memory_allocated()\n",
    "memory_cached = torch.cuda.memory_reserved()\n",
    "\n",
    "print(\n",
    "    f'Using gpu {current_device_name} with device number {current_device}.\\n'\n",
    "    f'Memory allocated = {memory_allocated}\\n'\n",
    "    f'Memory cached = {memory_cached}'\n",
    ")"
   ]
  },
  {
   "cell_type": "code",
   "execution_count": 4,
   "metadata": {},
   "outputs": [],
   "source": [
    "try:\n",
    "    from termcolor import cprint\n",
    "except ImportError:\n",
    "    cprint = None\n",
    "\n",
    "\n",
    "def log_print(text, color=None, on_color=None, attrs=None):\n",
    "    if cprint is not None:\n",
    "        cprint(text, color=color, on_color=on_color, attrs=attrs)\n",
    "    else:\n",
    "        print(text)"
   ]
  },
  {
   "cell_type": "code",
   "execution_count": 5,
   "metadata": {},
   "outputs": [],
   "source": [
    "# Directory Configurations\n",
    "\n",
    "method = 'csrnet'\n",
    "dataset_name = 'JHU'\n",
    "output_dir = f'../output/{method}/saved_models/{dataset_name}'\n",
    "\n",
    "# Training data path\n",
    "train_path = '../data/JHU/train/consolidated'\n",
    "train_gt_path = '../data/JHU/train/gt'\n",
    "\n",
    "# Validation data path\n",
    "val_path = '../data/JHU/val/consolidated'\n",
    "val_gt_path = '../data/JHU/val/gt'"
   ]
  },
  {
   "cell_type": "code",
   "execution_count": 6,
   "metadata": {},
   "outputs": [],
   "source": [
    "# Create output directory if it doesnt exist\n",
    "\n",
    "if not os.path.exists(output_dir):\n",
    "    os.mkdir(output_dir)"
   ]
  },
  {
   "cell_type": "code",
   "execution_count": 7,
   "metadata": {},
   "outputs": [
    {
     "data": {
      "text/plain": [
       "CrowdCounter(\n",
       "  (model): CSRNet(\n",
       "    (column): Sequential(\n",
       "      (0): Conv2d(\n",
       "        (conv): Conv2d(3, 64, kernel_size=(3, 3), stride=(1, 1), padding=(1, 1))\n",
       "        (relu): ReLU(inplace=True)\n",
       "      )\n",
       "      (1): Conv2d(\n",
       "        (conv): Conv2d(64, 64, kernel_size=(3, 3), stride=(1, 1), padding=(1, 1))\n",
       "        (relu): ReLU(inplace=True)\n",
       "      )\n",
       "      (2): MaxPool2d(kernel_size=2, stride=2, padding=0, dilation=1, ceil_mode=False)\n",
       "      (3): Conv2d(\n",
       "        (conv): Conv2d(64, 128, kernel_size=(3, 3), stride=(1, 1), padding=(1, 1))\n",
       "        (relu): ReLU(inplace=True)\n",
       "      )\n",
       "      (4): Conv2d(\n",
       "        (conv): Conv2d(128, 128, kernel_size=(3, 3), stride=(1, 1), padding=(1, 1))\n",
       "        (relu): ReLU(inplace=True)\n",
       "      )\n",
       "      (5): MaxPool2d(kernel_size=2, stride=2, padding=0, dilation=1, ceil_mode=False)\n",
       "      (6): Conv2d(\n",
       "        (conv): Conv2d(128, 256, kernel_size=(3, 3), stride=(1, 1), padding=(1, 1))\n",
       "        (relu): ReLU(inplace=True)\n",
       "      )\n",
       "      (7): Conv2d(\n",
       "        (conv): Conv2d(256, 256, kernel_size=(3, 3), stride=(1, 1), padding=(1, 1))\n",
       "        (relu): ReLU(inplace=True)\n",
       "      )\n",
       "      (8): Conv2d(\n",
       "        (conv): Conv2d(256, 256, kernel_size=(3, 3), stride=(1, 1), padding=(1, 1))\n",
       "        (relu): ReLU(inplace=True)\n",
       "      )\n",
       "      (9): MaxPool2d(kernel_size=2, stride=2, padding=0, dilation=1, ceil_mode=False)\n",
       "      (10): Conv2d(\n",
       "        (conv): Conv2d(256, 512, kernel_size=(3, 3), stride=(1, 1), padding=(1, 1))\n",
       "        (relu): ReLU(inplace=True)\n",
       "      )\n",
       "      (11): Conv2d(\n",
       "        (conv): Conv2d(512, 512, kernel_size=(3, 3), stride=(1, 1), padding=(1, 1))\n",
       "        (relu): ReLU(inplace=True)\n",
       "      )\n",
       "      (12): Conv2d(\n",
       "        (conv): Conv2d(512, 512, kernel_size=(3, 3), stride=(1, 1), padding=(1, 1))\n",
       "        (relu): ReLU(inplace=True)\n",
       "      )\n",
       "      (13): Conv2d(\n",
       "        (conv): Conv2d(512, 512, kernel_size=(3, 3), stride=(1, 1), padding=(2, 2), dilation=(2, 2))\n",
       "        (relu): ReLU(inplace=True)\n",
       "      )\n",
       "      (14): Conv2d(\n",
       "        (conv): Conv2d(512, 512, kernel_size=(3, 3), stride=(1, 1), padding=(2, 2), dilation=(2, 2))\n",
       "        (relu): ReLU(inplace=True)\n",
       "      )\n",
       "      (15): Conv2d(\n",
       "        (conv): Conv2d(512, 512, kernel_size=(3, 3), stride=(1, 1), padding=(2, 2), dilation=(2, 2))\n",
       "        (relu): ReLU(inplace=True)\n",
       "      )\n",
       "      (16): Conv2d(\n",
       "        (conv): Conv2d(512, 256, kernel_size=(3, 3), stride=(1, 1), padding=(2, 2), dilation=(2, 2))\n",
       "        (relu): ReLU(inplace=True)\n",
       "      )\n",
       "      (17): Conv2d(\n",
       "        (conv): Conv2d(256, 128, kernel_size=(3, 3), stride=(1, 1), padding=(2, 2), dilation=(2, 2))\n",
       "        (relu): ReLU(inplace=True)\n",
       "      )\n",
       "      (18): Conv2d(\n",
       "        (conv): Conv2d(128, 64, kernel_size=(3, 3), stride=(1, 1), padding=(2, 2), dilation=(2, 2))\n",
       "        (relu): ReLU(inplace=True)\n",
       "      )\n",
       "      (19): Conv2d(\n",
       "        (conv): Conv2d(64, 1, kernel_size=(1, 1), stride=(1, 1))\n",
       "        (relu): ReLU(inplace=True)\n",
       "      )\n",
       "    )\n",
       "  )\n",
       "  (criterion): SmoothL1Loss()\n",
       ")"
      ]
     },
     "execution_count": 7,
     "metadata": {},
     "output_type": "execute_result"
    }
   ],
   "source": [
    "# load model\n",
    "\n",
    "is_cuda = True  # Determine if we should use the CPU to train or GPU\n",
    "\n",
    "model = CrowdCounter(is_cuda=is_cuda)  # is_cuda determines if all the input tensors should be converted to cuda tensors\n",
    "network.weights_normal_init(model, dev=0.01)\n",
    "model.train()"
   ]
  },
  {
   "cell_type": "code",
   "execution_count": 8,
   "metadata": {
    "scrolled": false
   },
   "outputs": [
    {
     "name": "stdout",
     "output_type": "stream",
     "text": [
      "Changing to cuda weights\n",
      "model.column.0.conv.weight\tcuda:0\ttorch.Size([64, 3, 3, 3])\n",
      "model.column.0.conv.bias\tcuda:0\ttorch.Size([64])\n",
      "model.column.1.conv.weight\tcuda:0\ttorch.Size([64, 64, 3, 3])\n",
      "model.column.1.conv.bias\tcuda:0\ttorch.Size([64])\n",
      "model.column.3.conv.weight\tcuda:0\ttorch.Size([128, 64, 3, 3])\n",
      "model.column.3.conv.bias\tcuda:0\ttorch.Size([128])\n",
      "model.column.4.conv.weight\tcuda:0\ttorch.Size([128, 128, 3, 3])\n",
      "model.column.4.conv.bias\tcuda:0\ttorch.Size([128])\n",
      "model.column.6.conv.weight\tcuda:0\ttorch.Size([256, 128, 3, 3])\n",
      "model.column.6.conv.bias\tcuda:0\ttorch.Size([256])\n",
      "model.column.7.conv.weight\tcuda:0\ttorch.Size([256, 256, 3, 3])\n",
      "model.column.7.conv.bias\tcuda:0\ttorch.Size([256])\n",
      "model.column.8.conv.weight\tcuda:0\ttorch.Size([256, 256, 3, 3])\n",
      "model.column.8.conv.bias\tcuda:0\ttorch.Size([256])\n",
      "model.column.10.conv.weight\tcuda:0\ttorch.Size([512, 256, 3, 3])\n",
      "model.column.10.conv.bias\tcuda:0\ttorch.Size([512])\n",
      "model.column.11.conv.weight\tcuda:0\ttorch.Size([512, 512, 3, 3])\n",
      "model.column.11.conv.bias\tcuda:0\ttorch.Size([512])\n",
      "model.column.12.conv.weight\tcuda:0\ttorch.Size([512, 512, 3, 3])\n",
      "model.column.12.conv.bias\tcuda:0\ttorch.Size([512])\n",
      "model.column.13.conv.weight\tcuda:0\ttorch.Size([512, 512, 3, 3])\n",
      "model.column.13.conv.bias\tcuda:0\ttorch.Size([512])\n",
      "model.column.14.conv.weight\tcuda:0\ttorch.Size([512, 512, 3, 3])\n",
      "model.column.14.conv.bias\tcuda:0\ttorch.Size([512])\n",
      "model.column.15.conv.weight\tcuda:0\ttorch.Size([512, 512, 3, 3])\n",
      "model.column.15.conv.bias\tcuda:0\ttorch.Size([512])\n",
      "model.column.16.conv.weight\tcuda:0\ttorch.Size([256, 512, 3, 3])\n",
      "model.column.16.conv.bias\tcuda:0\ttorch.Size([256])\n",
      "model.column.17.conv.weight\tcuda:0\ttorch.Size([128, 256, 3, 3])\n",
      "model.column.17.conv.bias\tcuda:0\ttorch.Size([128])\n",
      "model.column.18.conv.weight\tcuda:0\ttorch.Size([64, 128, 3, 3])\n",
      "model.column.18.conv.bias\tcuda:0\ttorch.Size([64])\n",
      "model.column.19.conv.weight\tcuda:0\ttorch.Size([1, 64, 1, 1])\n",
      "model.column.19.conv.bias\tcuda:0\ttorch.Size([1])\n",
      "\n",
      "Model's state_dict: \n",
      "\n",
      "model.column.0.conv.weight \t torch.float32\n",
      "model.column.0.conv.bias \t torch.float32\n",
      "model.column.1.conv.weight \t torch.float32\n",
      "model.column.1.conv.bias \t torch.float32\n",
      "model.column.3.conv.weight \t torch.float32\n",
      "model.column.3.conv.bias \t torch.float32\n",
      "model.column.4.conv.weight \t torch.float32\n",
      "model.column.4.conv.bias \t torch.float32\n",
      "model.column.6.conv.weight \t torch.float32\n",
      "model.column.6.conv.bias \t torch.float32\n",
      "model.column.7.conv.weight \t torch.float32\n",
      "model.column.7.conv.bias \t torch.float32\n",
      "model.column.8.conv.weight \t torch.float32\n",
      "model.column.8.conv.bias \t torch.float32\n",
      "model.column.10.conv.weight \t torch.float32\n",
      "model.column.10.conv.bias \t torch.float32\n",
      "model.column.11.conv.weight \t torch.float32\n",
      "model.column.11.conv.bias \t torch.float32\n",
      "model.column.12.conv.weight \t torch.float32\n",
      "model.column.12.conv.bias \t torch.float32\n",
      "model.column.13.conv.weight \t torch.float32\n",
      "model.column.13.conv.bias \t torch.float32\n",
      "model.column.14.conv.weight \t torch.float32\n",
      "model.column.14.conv.bias \t torch.float32\n",
      "model.column.15.conv.weight \t torch.float32\n",
      "model.column.15.conv.bias \t torch.float32\n",
      "model.column.16.conv.weight \t torch.float32\n",
      "model.column.16.conv.bias \t torch.float32\n",
      "model.column.17.conv.weight \t torch.float32\n",
      "model.column.17.conv.bias \t torch.float32\n",
      "model.column.18.conv.weight \t torch.float32\n",
      "model.column.18.conv.bias \t torch.float32\n",
      "model.column.19.conv.weight \t torch.float32\n",
      "model.column.19.conv.bias \t torch.float32\n"
     ]
    }
   ],
   "source": [
    "if is_cuda and torch.cuda.is_available():\n",
    "    print(\"Changing to cuda weights\")\n",
    "    model.cuda()\n",
    "\n",
    "# Model parameters\n",
    "\n",
    "for name, param in model.named_parameters():\n",
    "    print(f'{name}\\t{param.device}\\t{param.shape}')\n",
    "\n",
    "# Print model's state_dict\n",
    "print(\"\\nModel's state_dict: \\n\")\n",
    "for k, v in model.state_dict().items():\n",
    "    print(k, \"\\t\", v.dtype)"
   ]
  },
  {
   "cell_type": "code",
   "execution_count": 9,
   "metadata": {},
   "outputs": [],
   "source": [
    "# Change model weights tensors to be cuda tensors if is_cuda is true and cuda is available\n",
    "\n"
   ]
  },
  {
   "cell_type": "code",
   "execution_count": 10,
   "metadata": {},
   "outputs": [],
   "source": [
    "#training configuration\n",
    "\n",
    "disp_interval = 20\n",
    "log_interval = 250\n",
    "\n",
    "# Set initial values\n",
    "best_mae, best_mse, best_mape, best_epoch = 999999, 999999, 999999,0\n",
    "best_mae_path = ''\n",
    "best_mse_path = ''\n",
    "best_mape_path = ''"
   ]
  },
  {
   "cell_type": "code",
   "execution_count": 11,
   "metadata": {},
   "outputs": [],
   "source": [
    "# Hyperparameters\n",
    "\n",
    "learning_rate = 0.0001\n",
    "epochs = 100\n",
    "\n",
    "# construct an optimizer\n",
    "\n",
    "params = [p for p in model.parameters() if p.requires_grad]\n",
    "optimizer = torch.optim.Adam(params, lr=learning_rate)"
   ]
  },
  {
   "cell_type": "code",
   "execution_count": 12,
   "metadata": {},
   "outputs": [
    {
     "name": "stdout",
     "output_type": "stream",
     "text": [
      "Training instances: 200\n",
      "Validation instances: 40\n"
     ]
    }
   ],
   "source": [
    "# Load the images, take note the num_pool argument\n",
    "\n",
    "data_loader = ImageDataLoader(train_path, shuffle=False, pre_load=False, size = 200)\n",
    "data_loader_val = ImageDataLoader(val_path, shuffle=False, pre_load=False, size = 40)\n",
    "\n",
    "print('Training instances: {}'.format(data_loader.get_num_samples()))\n",
    "print('Validation instances: {}'.format(data_loader_val.get_num_samples()))"
   ]
  },
  {
   "cell_type": "code",
   "execution_count": 13,
   "metadata": {},
   "outputs": [
    {
     "data": {
      "image/png": "[encoded data removed]",
      "text/plain": [
       "<Figure size 576x360 with 1 Axes>"
      ]
     },
     "metadata": {
      "needs_background": "light"
     },
     "output_type": "display_data"
    },
    {
     "data": {
      "image/png": "[encoded data removed]",
      "text/plain": [
       "<Figure size 576x360 with 1 Axes>"
      ]
     },
     "metadata": {
      "needs_background": "light"
     },
     "output_type": "display_data"
    }
   ],
   "source": [
    "# Dataset Analysis\n",
    "\n",
    "def AnalyseLoader(loader, title='Breakdown of the images in the loader by type'):\n",
    "    d = {'High': 0, 'Med': 0, 'Low': 0, 'None': 0, 'Fog': 0, 'Rain': 0, 'Snow': 0}\n",
    "    colours = ['orange', 'orange', 'orange', 'green', 'green', 'green', 'green']\n",
    "    labels = ['crowd', 'weather', 'weather', 'weather', 'weather', 'weather', 'weather']\n",
    "    for id, blob in enumerate(loader):\n",
    "        metadata = blob['metadata']\n",
    "        d[metadata['crowd_density']] += 1\n",
    "        d[metadata['weather']] += 1\n",
    "    for i, key in enumerate(d):\n",
    "        plt.text(i, d[key], '{}%'.format(d[key]*100/loader.get_num_samples()), \n",
    "                 ha='center', va='bottom', size=10)\n",
    "    pd.Series(d).plot(kind='bar', figsize=(8,5), color=colours)\n",
    "    leg1 = mpatches.Patch(color='orange', label='Crowd Density')\n",
    "    leg2 = mpatches.Patch(color='green', label='Weather')\n",
    "    plt.legend(handles=[leg1, leg2])\n",
    "    plt.title(title)\n",
    "    plt.show()\n",
    "    \n",
    "AnalyseLoader(data_loader, title='train')\n",
    "AnalyseLoader(data_loader_val, title='val')"
   ]
  },
  {
   "cell_type": "code",
   "execution_count": 14,
   "metadata": {},
   "outputs": [],
   "source": [
    "#Tensorboard  config\n",
    "use_tensorboard = True\n",
    "\n",
    "writer = SummaryWriter(f'../output/tensorboard/runs/{learning_rate}_{epochs}')"
   ]
  },
  {
   "cell_type": "code",
   "execution_count": 15,
   "metadata": {},
   "outputs": [
    {
     "name": "stdout",
     "output_type": "stream",
     "text": [
      "\u001b[1m\u001b[32m[  1,   1] Image: 0714, Actual Count:     40, Estimated Count:  0.000\u001b[0m\n",
      "\u001b[1m\u001b[32m[  1,   2] Image: 0424, Actual Count:     76, Estimated Count:  0.373\u001b[0m\n",
      "\u001b[1m\u001b[32m[  1,   3] Image: 0272, Actual Count:    756, Estimated Count:  7.031\u001b[0m\n",
      "\u001b[1m\u001b[34mEPOCH:    1, Val MAE: 305.268, Val MSE: 724777.674, Val RMSE: 851.339, Val MAPE: 0.887\u001b[0m\n"
     ]
    }
   ],
   "source": [
    "for epoch in range(1, epochs+1):    \n",
    "    train_loss = 0.0\n",
    "    model.train()\n",
    "    for id, blob in enumerate(data_loader, 1):  \n",
    "        im_data = blob['data']\n",
    "        gt_data = blob['gt_density']\n",
    "        metadata = blob['metadata']\n",
    "\n",
    "        # Forward pass + backward pass + optimise\n",
    "        try:\n",
    "            density_map = model(im_data, gt_data)\n",
    "            loss = model.loss\n",
    "            optimizer.zero_grad()\n",
    "            loss.backward()\n",
    "            torch.nn.utils.clip_grad_norm_(model.parameters(), 5)\n",
    "            optimizer.step()\n",
    "\n",
    "            # Write to tensorboard\n",
    "            train_loss += loss.item()\n",
    "\n",
    "            if id % disp_interval == 0:            \n",
    "                gt_count = np.sum(gt_data)                \n",
    "                et_count = torch.sum(density_map)\n",
    "                #utils.save_results(im_data,gt_data,density_map, output_dir)\n",
    "                log_text = '[%3d, %3d] Image: %s, Actual Count: %6d, Estimated Count: %6.3f' % (epoch, id, metadata['img_path'], gt_count, et_count)\n",
    "                log_print(log_text, color='green', attrs=['bold'])\n",
    "\n",
    "        except Exception as e:\n",
    "            #print(e)\n",
    "            #print('continuing... image path: {}'.format(metadata['img_path']))\n",
    "            continue\n",
    "            \n",
    "        if id == 3: break\n",
    " \n",
    "    # Overwrite the current model weights\n",
    "    current_model = f'{method}_{learning_rate}.h5'\n",
    "    save_name = os.path.join(output_dir, current_model)\n",
    "    network.save_net(save_name, model)\n",
    "            \n",
    "    # Evaluate the mae and mse results by doing a forward pass against the validation dataset i.e data_loader_val for\n",
    "    # each epoch\n",
    "    MAEcrowddensity, MSEcrowddensity, MAPEcrowddensity, MAEweather, MSEweather, MAPEweather, MAE, MSE, RMSE, MAPE = evaluate_model(save_name, data_loader_val, is_cuda=is_cuda)\n",
    "    \n",
    "    # Pocket algorithm: Check to see if the current epoch mae is better than the best recorded one,\n",
    "    # If it is, then overwrite the current best .h5 weights file\n",
    "    if MAE < best_mae:\n",
    "        # Save the new best mae and mse\n",
    "        best_mae = MAE\n",
    "        best_epoch = epoch\n",
    "        best_model = f'best_MAE_epoch_{epoch}_{method}_{learning_rate}.h5'\n",
    "\n",
    "        # Overwrite or create a new file for the best model for this learning rate\n",
    "        save_name = os.path.join(output_dir, best_model)\n",
    "        best_mae_path = save_name\n",
    "        network.save_net(save_name, model)\n",
    "        \n",
    "    if MSE < best_mse:\n",
    "        # Save the new best mae and mse\n",
    "        best_mse = MSE\n",
    "        best_epoch = epoch\n",
    "        best_model = f'best_MSE_epoch_{epoch}_{method}_{learning_rate}.h5'\n",
    "\n",
    "        # Overwrite or create a new file for the best model for this learning rate\n",
    "        save_name = os.path.join(output_dir, best_model)\n",
    "        best_mse_path = save_name\n",
    "        network.save_net(save_name, model)\n",
    "        \n",
    "    if MAPE < best_mape:\n",
    "        # Save the new best mae and mse\n",
    "        best_mape = MAPE\n",
    "        best_epoch = epoch\n",
    "        best_model = f'best_MAPE_epoch_{epoch}_{method}_{learning_rate}.h5'\n",
    "\n",
    "        # Overwrite or create a new file for the best model for this learning rate\n",
    "        save_name = os.path.join(output_dir, best_model)\n",
    "        best_mape_path = save_name\n",
    "        network.save_net(save_name, model)\n",
    "        \n",
    "    # Print out the best epoch that beat the current best mae\n",
    "    log_text = 'EPOCH: %4d, Val MAE: %.3f, Val MSE: %.3f, Val RMSE: %.3f, Val MAPE: %.3f' % (epoch, MAE, MSE, RMSE, MAPE)\n",
    "    log_print(log_text, color='blue', attrs=['bold'])\n",
    "\n",
    "    # Save the results to tensorboard for each epoch\n",
    "    if use_tensorboard:\n",
    "        \n",
    "        # overall segment\n",
    "        writer.add_scalar(\"Overall/Val MAE\", MAE, epoch)\n",
    "        writer.add_scalar(\"Overall/Val MSE\", MSE, epoch)\n",
    "        writer.add_scalar(\"Overall/Val RMSE\", RMSE, epoch)\n",
    "        writer.add_scalar(\"Overall/Val MAPE\", MAPE, epoch)\n",
    "        writer.add_scalar(\"Overall/Train Loss\", train_loss / data_loader.get_num_samples(), epoch)\n",
    "        \n",
    "        # crowd density segment\n",
    "        writer.add_scalar('Crowd Density/High/MAE', MAEcrowddensity['High'], epoch)\n",
    "        writer.add_scalar('Crowd Density/High/MSE', MSEcrowddensity['High'], epoch)\n",
    "        writer.add_scalar('Crowd Density/High/RMSE', np.sqrt(MSEcrowddensity['High']), epoch)\n",
    "        writer.add_scalar('Crowd Density/High/MAPE', MAPEcrowddensity['High'], epoch)\n",
    "        \n",
    "        writer.add_scalar('Crowd Density/Med/MAE', MAEcrowddensity['Med'], epoch)\n",
    "        writer.add_scalar('Crowd Density/Med/MSE', MSEcrowddensity['Med'], epoch)\n",
    "        writer.add_scalar('Crowd Density/Med/RMSE', np.sqrt(MSEcrowddensity['Med']), epoch)\n",
    "        writer.add_scalar('Crowd Density/Med/MAPE', MAPEcrowddensity['Med'], epoch)\n",
    "        \n",
    "        writer.add_scalar('Crowd Density/Low/MAE', MAEcrowddensity['Low'], epoch)\n",
    "        writer.add_scalar('Crowd Density/Low/MSE', MSEcrowddensity['Low'], epoch)\n",
    "        writer.add_scalar('Crowd Density/Low/RMSE', np.sqrt(MSEcrowddensity['Low']), epoch)\n",
    "        writer.add_scalar('Crowd Density/Low/MAPE', MAPEcrowddensity['Low'], epoch)\n",
    "        \n",
    "        # weather segment\n",
    "        writer.add_scalar('Weather/No Degradation/MAE', MAEweather['None'], epoch)\n",
    "        writer.add_scalar('Weather/No Degradation/MSE', MSEweather['None'], epoch)\n",
    "        writer.add_scalar('Weather/No Degradation/RMSE', np.sqrt(MSEweather['None']), epoch)\n",
    "        writer.add_scalar('Weather/No Degradation/MAPE', MAPEweather['None'], epoch)\n",
    "        \n",
    "        writer.add_scalar('Weather/Fog/MAE', MAEweather['Fog'], epoch)\n",
    "        writer.add_scalar('Weather/Fog/MSE', MSEweather['Fog'], epoch)\n",
    "        writer.add_scalar('Weather/Fog/RMSE', np.sqrt(MSEweather['Fog']), epoch)\n",
    "        writer.add_scalar('Weather/Fog/MAPE', MAPEweather['Fog'], epoch)\n",
    "        \n",
    "        writer.add_scalar('Weather/Rain/MAE', MAEweather['Rain'], epoch)\n",
    "        writer.add_scalar('Weather/Rain/MSE', MSEweather['Rain'], epoch)\n",
    "        writer.add_scalar('Weather/Rain/RMSE', np.sqrt(MSEweather['Rain']), epoch)\n",
    "        writer.add_scalar('Weather/Rain/MAPE', MAPEweather['Rain'], epoch)\n",
    "        \n",
    "        writer.add_scalar('Weather/Snow/MAE', MAEweather['Snow'], epoch)\n",
    "        writer.add_scalar('Weather/Snow/MSE', MSEweather['Snow'], epoch)\n",
    "        writer.add_scalar('Weather/Snow/RMSE', np.sqrt(MSEweather['Snow']), epoch)\n",
    "        writer.add_scalar('Weather/Snow/MAPE', MAPEweather['Snow'], epoch)"
   ]
  },
  {
   "cell_type": "code",
   "execution_count": 24,
   "metadata": {},
   "outputs": [
    {
     "name": "stdout",
     "output_type": "stream",
     "text": [
      "\u001b[1m\u001b[32mBEST MAE: 305.2678073525429, BEST MSE: 724777.6740527392, BEST MAPE: 0.887108938395977\u001b[0m\n"
     ]
    }
   ],
   "source": [
    "log_text = f'BEST MAE: {best_mae}, BEST MSE: {best_mse}, BEST MAPE: {best_mape}'\n",
    "log_print(log_text, color='green', attrs=['bold'])"
   ]
  },
  {
   "cell_type": "code",
   "execution_count": 18,
   "metadata": {},
   "outputs": [
    {
     "data": {
      "text/plain": [
       "({'High': 1714.258935546875,\n",
       "  'Med': 145.11672542406166,\n",
       "  'Low': 25.144410967826843},\n",
       " {'High': 5662267.25, 'Med': 29147.316268257473, 'Low': 781.869828303655},\n",
       " {'High': 0.9782511115074157,\n",
       "  'Med': 0.9059204899746439,\n",
       "  'Low': 0.8130775590737661},\n",
       " {'None': 323.09754492176904,\n",
       "  'Fog': 11.407509803771973,\n",
       "  'Rain': 212.09980010986328,\n",
       "  'Snow': 143.59356689453125},\n",
       " {'None': 801996.1169369221,\n",
       "  'Fog': 130.13128662109375,\n",
       "  'Rain': 49248.75390625,\n",
       "  'Snow': 20619.11328125},\n",
       " {'None': 0.8791850970851051,\n",
       "  'Fog': 0.8775008320808411,\n",
       "  'Rain': 0.982946366071701,\n",
       "  'Snow': 0.9903004765510559},\n",
       " 305.2678073525429,\n",
       " 724777.6740527392,\n",
       " 851.3387539944009,\n",
       " 0.887108938395977)"
      ]
     },
     "execution_count": 18,
     "metadata": {},
     "output_type": "execute_result"
    }
   ],
   "source": [
    "evaluate_model(best_mape_path, data_loader_val, is_cuda=is_cuda)"
   ]
  }
 ],
 "metadata": {
  "kernelspec": {
   "display_name": "Python 3",
   "language": "python",
   "name": "python3"
  },
  "language_info": {
   "codemirror_mode": {
    "name": "ipython",
    "version": 3
   },
   "file_extension": ".py",
   "mimetype": "text/x-python",
   "name": "python",
   "nbconvert_exporter": "python",
   "pygments_lexer": "ipython3",
   "version": "3.6.9"
  }
 },
 "nbformat": 4,
 "nbformat_minor": 4
}

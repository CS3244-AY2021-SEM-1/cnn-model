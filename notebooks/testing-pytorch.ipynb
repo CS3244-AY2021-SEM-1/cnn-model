{
 "cells": [
  {
   "cell_type": "code",
   "execution_count": 1,
   "metadata": {},
   "outputs": [],
   "source": [
    "import os\n",
    "import torch\n",
    "import numpy as np\n",
    "import pandas as pd\n",
    "import sys\n",
    "import random\n",
    "import h5py\n",
    "\n",
    "sys.path.append('../')\n",
    "\n",
    "from src import *\n",
    "from src.crowd_count import *\n",
    "from src.network import *\n",
    "from src.data_loader import *\n",
    "from src.timer import *\n",
    "from src.evaluate_model import *"
   ]
  },
  {
   "cell_type": "markdown",
   "metadata": {},
   "source": [
    "## Loading in the NN"
   ]
  },
  {
   "cell_type": "code",
   "execution_count": 2,
   "metadata": {},
   "outputs": [],
   "source": [
    "# load net\n",
    "mcnn = CrowdCounter('mcnn')\n",
    "weights_normal_init(mcnn, dev=0.01) # wtheck does this do"
   ]
  },
  {
   "cell_type": "markdown",
   "metadata": {},
   "source": [
    "## Loading in the data"
   ]
  },
  {
   "cell_type": "code",
   "execution_count": 3,
   "metadata": {},
   "outputs": [],
   "source": [
    "# specify path to the consolidated .h5 files\n",
    "train_path = '../data/SHT/part_A_final/train_data/consolidated'\n",
    "val_path = '../data/SHT/part_A_final/test_data/consolidated'\n",
    "\n",
    "data_loader = ImageDataLoader(train_path, shuffle=False, pre_load=False)\n",
    "data_loader_val = ImageDataLoader(val_path, shuffle=False, pre_load=False)"
   ]
  },
  {
   "cell_type": "markdown",
   "metadata": {},
   "source": [
    "## Training"
   ]
  },
  {
   "cell_type": "code",
   "execution_count": 4,
   "metadata": {
    "scrolled": true
   },
   "outputs": [
    {
     "name": "stdout",
     "output_type": "stream",
     "text": [
      "epoch: 0, MAE: 504.62, MSE: 421711.76\n",
      "epoch: 1, MAE: 504.28, MSE: 421335.32\n",
      "\n",
      "------BEST MODEL------\n",
      "epoch: 1, MAE: 504.28, MSE: 421335.32\n",
      "model saved to: ../output/mcnn\n"
     ]
    }
   ],
   "source": [
    "# specifying the model\n",
    "model = mcnn\n",
    "model.train(True)\n",
    "\n",
    "# specifying some settings\n",
    "output_dir = '../output/{}'.format(model.name)\n",
    "dataset_name = 'SHT_A'\n",
    "best_mae, best_mse, best_epoch = 999999, 999999, 0\n",
    "\n",
    "# train on the GPU or on the CPU, if a GPU is not available\n",
    "device = torch.device('cuda') if torch.cuda.is_available() else torch.device('cpu')\n",
    "\n",
    "# construct an optimizer\n",
    "params = [p for p in model.parameters() if p.requires_grad]\n",
    "#optimizer = torch.optim.SGD(params, lr=0.005, momentum=0.9, weight_decay=0.0005)\n",
    "optimizer = torch.optim.Adam(params, lr=0.00001)\n",
    "    \n",
    "# learning rate scheduler\n",
    "lr_scheduler = torch.optim.lr_scheduler.StepLR(optimizer, step_size=3, gamma=0.1)\n",
    "\n",
    "# set the number of epochs\n",
    "num_epochs = 2\n",
    "\n",
    "for epoch in range(num_epochs):\n",
    "    #model.train(True)\n",
    "    train_loss = 0\n",
    "    for train in data_loader:\n",
    "        im_data = train['data']\n",
    "        gt_data = train['gt_density']\n",
    "        \n",
    "        density_map = model(im_data, gt_data)\n",
    "\n",
    "        loss = model.loss\n",
    "        train_loss += loss.data\n",
    "        \n",
    "        optimizer.zero_grad()\n",
    "        loss.backward()\n",
    "        optimizer.step()\n",
    "        \n",
    "    # update the learning rate\n",
    "    lr_scheduler.step()\n",
    "    \n",
    "    # evaluate on the validation dataset\n",
    "    #model.train(False)\n",
    "    mae, mse = 0, 0\n",
    "    with torch.no_grad():\n",
    "        for val in data_loader_val:\n",
    "            im_data_val = val['data']\n",
    "            gt_data_val = val['gt_density']\n",
    "            dmap = model(im_data_val, gt_data_val).data.cpu().numpy()\n",
    "\n",
    "            gt_count = gt_data_val.sum()\n",
    "            et_count = np.sum(dmap)\n",
    "\n",
    "            mae += abs(gt_count - et_count)\n",
    "            mse += (gt_count-et_count)**2\n",
    "\n",
    "        mae /= data_loader_val.get_num_samples()\n",
    "        mse /= data_loader_val.get_num_samples()\n",
    "    \n",
    "    # want to save the best model as at the current epoch\n",
    "    if (mae < best_mae) and (mse < best_mse):\n",
    "        save_to = os.path.join(output_dir, '{}_{}_best.h5'.format(model.name, dataset_name))\n",
    "        save_net(save_to, model)\n",
    "        best_epoch = epoch\n",
    "        best_mae = mae\n",
    "        best_mse = mse\n",
    "    \n",
    "    print('epoch: {}, MAE: {}, MSE: {}'.format(epoch, round(mae, 2), round(mse, 2)))\n",
    "    \n",
    "print()\n",
    "print('------BEST MODEL------')\n",
    "print('epoch: {}, MAE: {}, MSE: {}'.format(best_epoch, round(best_mae, 2), round(best_mse, 2)))\n",
    "print('model saved to: {}'.format(output_dir))"
   ]
  }
 ],
 "metadata": {
  "kernelspec": {
   "display_name": "Python 3",
   "language": "python",
   "name": "python3"
  },
  "language_info": {
   "codemirror_mode": {
    "name": "ipython",
    "version": 3
   },
   "file_extension": ".py",
   "mimetype": "text/x-python",
   "name": "python",
   "nbconvert_exporter": "python",
   "pygments_lexer": "ipython3",
   "version": "3.8.2"
  }
 },
 "nbformat": 4,
 "nbformat_minor": 4
}
